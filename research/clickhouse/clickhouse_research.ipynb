{
 "cells": [
  {
   "cell_type": "code",
   "execution_count": 1,
   "outputs": [],
   "source": [
    "from time import time\n",
    "from uuid import uuid4\n",
    "\n",
    "from clickhouse_connect import get_client\n",
    "from clickhouse_connect.driver import Client\n",
    "from faker import Faker"
   ],
   "metadata": {
    "collapsed": false,
    "ExecuteTime": {
     "end_time": "2023-06-23T15:43:16.312356Z",
     "start_time": "2023-06-23T15:43:16.230594Z"
    }
   }
  },
  {
   "cell_type": "code",
   "execution_count": 2,
   "outputs": [],
   "source": [
    "fake: Faker = Faker()\n",
    "\n",
    "client: Client = get_client(host='localhost', port=8123)"
   ],
   "metadata": {
    "collapsed": false,
    "ExecuteTime": {
     "end_time": "2023-06-23T15:43:16.392322Z",
     "start_time": "2023-06-23T15:43:16.313044Z"
    }
   }
  },
  {
   "cell_type": "code",
   "execution_count": 3,
   "outputs": [],
   "source": [
    "BATCH_SIZE: int = 10000\n",
    "BATCHES: int = 1000\n",
    "TOTAL_RECORDS: float = BATCH_SIZE * BATCHES"
   ],
   "metadata": {
    "collapsed": false,
    "ExecuteTime": {
     "end_time": "2023-06-23T15:43:16.394262Z",
     "start_time": "2023-06-23T15:43:16.392535Z"
    }
   }
  },
  {
   "cell_type": "code",
   "execution_count": 4,
   "outputs": [
    {
     "data": {
      "text/plain": "''"
     },
     "execution_count": 4,
     "metadata": {},
     "output_type": "execute_result"
    }
   ],
   "source": [
    "client.command(\n",
    "    \"\"\"\n",
    "    CREATE TABLE IF NOT EXISTS test_user_progress\n",
    "    (\n",
    "        user_id UUID,\n",
    "        film_id UUID,\n",
    "        viewed_frame Int64,\n",
    "        ts DateTime\n",
    "    ) ENGINE MergeTree()\n",
    "    ORDER BY (viewed_frame)\n",
    "    \"\"\"\n",
    ")"
   ],
   "metadata": {
    "collapsed": false,
    "ExecuteTime": {
     "end_time": "2023-06-23T15:43:16.408236Z",
     "start_time": "2023-06-23T15:43:16.395269Z"
    }
   }
  },
  {
   "cell_type": "code",
   "execution_count": 5,
   "outputs": [
    {
     "name": "stdout",
     "output_type": "stream",
     "text": [
      "Insertion speed: 70,401.82 records/sec\n"
     ]
    }
   ],
   "source": [
    "start_time: float = time()\n",
    "\n",
    "for batch in range(BATCHES):\n",
    "    data = [\n",
    "        (uuid4(), uuid4(), fake.random_int(min=0, max=1000), fake.date_time_between(start_date=\"-1y\", end_date=\"now\")) for _ in range(BATCH_SIZE)\n",
    "    ]\n",
    "    client.insert('test_user_progress', data, column_names=['user_id', 'film_id', 'viewed_frame', 'ts'])\n",
    "\n",
    "insertion_time: float  = time() - start_time\n",
    "\n",
    "insertion_speed: float  = round(TOTAL_RECORDS / insertion_time, 2)\n",
    "\n",
    "print('Insertion speed: {:,} records/sec'.format(insertion_speed))"
   ],
   "metadata": {
    "collapsed": false,
    "ExecuteTime": {
     "end_time": "2023-06-23T15:45:38.454082Z",
     "start_time": "2023-06-23T15:43:16.410490Z"
    }
   }
  },
  {
   "cell_type": "code",
   "execution_count": 6,
   "outputs": [
    {
     "name": "stdout",
     "output_type": "stream",
     "text": [
      "Reading speed: 1,145,159.75 records/sec\n"
     ]
    }
   ],
   "source": [
    "start_time: float  = time()\n",
    "\n",
    "client.query('SELECT * FROM test_user_progress')\n",
    "\n",
    "reading_time: float  = time() - start_time\n",
    "\n",
    "reading_speed: float  = round(TOTAL_RECORDS / reading_time, 2)\n",
    "\n",
    "print('Reading speed: {:,} records/sec'.format(reading_speed))"
   ],
   "metadata": {
    "collapsed": false,
    "ExecuteTime": {
     "end_time": "2023-06-23T15:45:47.189205Z",
     "start_time": "2023-06-23T15:45:38.455276Z"
    }
   }
  },
  {
   "cell_type": "code",
   "execution_count": 7,
   "outputs": [
    {
     "data": {
      "text/plain": "''"
     },
     "execution_count": 7,
     "metadata": {},
     "output_type": "execute_result"
    }
   ],
   "source": [
    "client.command('DROP TABLE IF EXISTS test_user_progress')\n"
   ],
   "metadata": {
    "collapsed": false,
    "ExecuteTime": {
     "end_time": "2023-06-23T15:45:47.416873Z",
     "start_time": "2023-06-23T15:45:47.189470Z"
    }
   }
  }
 ],
 "metadata": {
  "kernelspec": {
   "display_name": "Python 3",
   "language": "python",
   "name": "python3"
  },
  "language_info": {
   "codemirror_mode": {
    "name": "ipython",
    "version": 2
   },
   "file_extension": ".py",
   "mimetype": "text/x-python",
   "name": "python",
   "nbconvert_exporter": "python",
   "pygments_lexer": "ipython2",
   "version": "2.7.6"
  }
 },
 "nbformat": 4,
 "nbformat_minor": 0
}
