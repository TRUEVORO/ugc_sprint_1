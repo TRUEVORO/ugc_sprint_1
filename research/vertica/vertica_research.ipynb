{
 "cells": [
  {
   "cell_type": "code",
   "execution_count": 1,
   "outputs": [],
   "source": [
    "from time import time\n",
    "from uuid import uuid4\n",
    "\n",
    "from faker import Faker\n",
    "from vertica_python import connect, Connection\n",
    "from vertica_python.vertica.cursor import Cursor"
   ],
   "metadata": {
    "collapsed": false,
    "ExecuteTime": {
     "end_time": "2023-06-23T15:51:16.341255Z",
     "start_time": "2023-06-23T15:51:16.289586Z"
    }
   }
  },
  {
   "cell_type": "code",
   "execution_count": 2,
   "outputs": [],
   "source": [
    "fake: Faker = Faker()\n",
    "\n",
    "CONNECTION_INFO: dict = {\n",
    "    'host': '127.0.0.1',\n",
    "    'port': 5433,\n",
    "    'user': 'dbadmin',\n",
    "    'password': '',\n",
    "    'database': 'docker',\n",
    "    'autocommit': True,\n",
    "}\n",
    "connection: Connection = connect(**CONNECTION_INFO)"
   ],
   "metadata": {
    "collapsed": false,
    "ExecuteTime": {
     "end_time": "2023-06-23T15:51:16.378299Z",
     "start_time": "2023-06-23T15:51:16.342126Z"
    }
   }
  },
  {
   "cell_type": "code",
   "execution_count": 3,
   "outputs": [
    {
     "data": {
      "text/plain": "<vertica_python.vertica.cursor.Cursor at 0x1108584d0>"
     },
     "execution_count": 3,
     "metadata": {},
     "output_type": "execute_result"
    }
   ],
   "source": [
    "cursor: Cursor = connection.cursor()\n",
    "cursor.execute(\n",
    "    \"\"\"\n",
    "    CREATE TABLE IF NOT EXISTS test_user_progress\n",
    "    (\n",
    "        user_id VARCHAR,\n",
    "        film_id VARCHAR,\n",
    "        viewed_frame INTEGER,\n",
    "        ts DATETIME\n",
    "    )\n",
    "    \"\"\"\n",
    ")"
   ],
   "metadata": {
    "collapsed": false,
    "ExecuteTime": {
     "end_time": "2023-06-23T15:51:16.413697Z",
     "start_time": "2023-06-23T15:51:16.378679Z"
    }
   }
  },
  {
   "cell_type": "code",
   "execution_count": 4,
   "outputs": [],
   "source": [
    "BATCH_SIZE: int = 10000\n",
    "BATCHES: int = 1000\n",
    "TOTAL_RECORDS: float = BATCH_SIZE * BATCHES"
   ],
   "metadata": {
    "collapsed": false,
    "ExecuteTime": {
     "end_time": "2023-06-23T15:51:16.415797Z",
     "start_time": "2023-06-23T15:51:16.414209Z"
    }
   }
  },
  {
   "cell_type": "code",
   "execution_count": 5,
   "outputs": [
    {
     "name": "stdout",
     "output_type": "stream",
     "text": [
      "Insertion speed: 40,694.49 records/sec\n"
     ]
    }
   ],
   "source": [
    "start_time: float = time()\n",
    "\n",
    "for batch in range(BATCHES):\n",
    "    data = [\n",
    "        (uuid4(), uuid4(), fake.random_int(min=0, max=1000), fake.date_time_between(start_date='-1y', end_date='now')) for _ in range(BATCH_SIZE)\n",
    "    ]\n",
    "    cursor.executemany(\n",
    "            'INSERT INTO test_user_progress (user_id, film_id, viewed_frame, ts) VALUES (%s, %s, %s, %s)', data\n",
    "        )\n",
    "\n",
    "insertion_time: float = time() - start_time\n",
    "\n",
    "insertion_speed: float = round(TOTAL_RECORDS / insertion_time, 2)\n",
    "\n",
    "print('Insertion speed: {:,} records/sec'.format(insertion_speed))"
   ],
   "metadata": {
    "collapsed": false,
    "ExecuteTime": {
     "end_time": "2023-06-23T15:55:22.153511Z",
     "start_time": "2023-06-23T15:51:16.418554Z"
    }
   }
  },
  {
   "cell_type": "code",
   "execution_count": 6,
   "outputs": [
    {
     "name": "stdout",
     "output_type": "stream",
     "text": [
      "Reading speed: 1,011,023.92 records/sec\n"
     ]
    }
   ],
   "source": [
    "start_time: float = time()\n",
    "\n",
    "cursor.execute(\n",
    "    \"\"\"\n",
    "    SELECT\n",
    "        user_id,\n",
    "        sum(viewed_frame),\n",
    "        max(viewed_frame)\n",
    "    FROM test_user_progress\n",
    "    WHERE ts > '2022-12-01 00:00:00'\n",
    "    GROUP by user_id\n",
    "    \"\"\"\n",
    ")\n",
    "\n",
    "reading_time: float = time() - start_time\n",
    "\n",
    "reading_speed: float = round(TOTAL_RECORDS / reading_time, 2)\n",
    "\n",
    "print('Reading speed: {:,} records/sec'.format(reading_speed))"
   ],
   "metadata": {
    "collapsed": false,
    "ExecuteTime": {
     "end_time": "2023-06-23T15:55:32.047264Z",
     "start_time": "2023-06-23T15:55:22.154048Z"
    }
   }
  },
  {
   "cell_type": "code",
   "execution_count": 7,
   "outputs": [],
   "source": [
    "cursor.execute('DROP TABLE IF EXISTS test_user_progress')\n",
    "\n",
    "cursor.close()\n",
    "connection.close()\n"
   ],
   "metadata": {
    "collapsed": false,
    "ExecuteTime": {
     "end_time": "2023-06-23T15:56:01.158057Z",
     "start_time": "2023-06-23T15:55:32.048983Z"
    }
   }
  }
 ],
 "metadata": {
  "kernelspec": {
   "display_name": "Python 3",
   "language": "python",
   "name": "python3"
  },
  "language_info": {
   "codemirror_mode": {
    "name": "ipython",
    "version": 2
   },
   "file_extension": ".py",
   "mimetype": "text/x-python",
   "name": "python",
   "nbconvert_exporter": "python",
   "pygments_lexer": "ipython2",
   "version": "2.7.6"
  }
 },
 "nbformat": 4,
 "nbformat_minor": 0
}
